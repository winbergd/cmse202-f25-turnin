{
 "cells": [
  {
   "cell_type": "markdown",
   "id": "3def3efc",
   "metadata": {
    "tags": []
   },
   "source": [
    "# CMSE 202 Midterm (Section 001 - Fall 2025)\n",
    "\n",
    "The goal of this midterm is to give you the opportunity to test out some of the skills that you've developed thus far this semester. In particular, you'll practice setting up a GitHub repository, committing and pushing repository changes, downloading data with command line tools, performing some data analysis, possibly using a new Python package, and writing a python class. You should find that you have all of the skills necessary to complete this exam with even just eight weeks of CMSE 202 under your belt!\n",
    "\n",
    "You are encouraged to look through the entire exam before you get started so that you can appropriately budget your time and understand the broad goals of the exam. Once you've read through it, try doing Parts 0 and 1 first so that you have your repository set up and you download all necessary data files as they will be necessary to complete the assigned tasks. Let your instructor know right away if you have problems downloading the data!\n",
    "\n",
    "The exam is set up so that even if you get stuck on one part there are opportunities to get points on the other parts, so consider jumping ahead if you feel like you aren't making progress and then come back later if you have time. If you have any questions during the exam, you may ask the instructor, the TA, or the LA privately: simply raise your hand and one of us will come over to you. \n",
    "\n",
    "\n",
    "**Important note about using online resources**: This exam is \"open internet\". That means that you can look up documentation, google how to accomplish certain Python tasks, etc. Being able to effectively use the internet for computational modeling and data science is a very important skill, so we want to make sure you have the opportunity to exercise that skill. **However: The use of any person-to-person communication software or generative AI tools is absolutely not acceptable.** If you are seen accessing your email, using a collaborative cloud storage or document software (e.g. Slack, Google Documents), or generative AIs (e.g. ChatGPT), you will be at risk for receiving a zero on the exam. Google often does give an AI summary regardless of search, so to avoid misusing AI on the exam you should not copy-paste any of the questions from the exam directly into Google. \n",
    "\n",
    "**Keep your eyes on your screen!** Unfortunately, there isn't enough space in the room for everyone to sit at their own table so please keep your eyes on your own screen. This exam is designed to give *you* the opportunity to show the instructor what you can do and you should hold yourself accountable for maintaining a high level of academic integrity. If any of the instructors observe suspicious behavior, you will, again, risk receiving a zero.\n",
    "\n",
    "**Github Issues:** If at any point you encounter an issue with Github, such as a merge conflict, rather than spending your limited exam time trying to fix it, just write the code you would use to achieve the task in the notebook and move on. If you note the issue you encountered and have correct code in your notebook, you can still receive full credit. "
   ]
  },
  {
   "cell_type": "markdown",
   "id": "6b0b3d3a",
   "metadata": {},
   "source": [
    "---\n",
    "## Part 0: Academic integrity statement\n",
    "\n",
    "Read the following statement and edit the markdown text to put your name in the statement. This is your commitment to doing your own authentic work on this exam."
   ]
  },
  {
   "cell_type": "markdown",
   "id": "8e3dc4df",
   "metadata": {
    "pycharm": {
     "name": "#%% md\n"
    }
   },
   "source": [
    "> I, Maddi Winberg-Doyle, affirm that this exam represents my own authetic work, without the use of any unpermitted aids or generative AIs or person-to-person communication. I understand that this exam an an opportunity to showcase my own progress in developing and improving my computational skills and have done my best to demonstrate those skills."
   ]
  },
  {
   "cell_type": "markdown",
   "id": "435ee396",
   "metadata": {
    "tags": []
   },
   "source": [
    "## Part 1: Add to your Git repository to track your progress on your exam (10 points total)\n",
    "\n",
    "Before you get too far along in the exam, you're going to add it to the `cmse202-f25-turnin` repository you created in class (or in Homework 1) so that you can track your progress on the exam and preserve the final version that you turn in. In order to do this you need to\n",
    "\n",
    "1. Navigate to your `cmse202-f25-turnin` repository and create a new directory called `midterm`.\n",
    "2. Move this notebook into that **new directory** in your repository, then **add it and commit it to your repository**.\n",
    "3. Finally, to test that everything is working, \"git push\" the file so that it ends up in your GitHub repository.\n",
    "\n",
    "**Important**: Double check you've added your Professor and your TA as collaborators to your \"turnin\" respository (you should have done this in the previous homework assignment).\n",
    "\n",
    "**Important**: Make sure that the version of this notebook that you are working on is the same one that you just added to your repository! If you are working on a different copy of the noteobok, **none of your changes will be tracked**!\n",
    "\n",
    "The file should now show up on your GitHub account in the `cmse202-f25-turnin` repository inside the `midterm` directory you just created.  Periodically, **you'll be asked to commit your changes to the repository and push them to the remote GitHub location**. It can be good to get into a habit of committing your changes any time you make a significant modification."
   ]
  },
  {
   "cell_type": "markdown",
   "id": "290bab71",
   "metadata": {},
   "source": [
    "&#9989; **Question 1.1 Put all the Git commands you used to add your midterm folder and file to your GitHub repository (2 points)**:"
   ]
  },
  {
   "cell_type": "code",
   "execution_count": 9,
   "id": "77244e3d",
   "metadata": {},
   "outputs": [
    {
     "ename": "SyntaxError",
     "evalue": "invalid syntax (2767483955.py, line 3)",
     "output_type": "error",
     "traceback": [
      "\u001b[0;36m  Cell \u001b[0;32mIn[9], line 3\u001b[0;36m\u001b[0m\n\u001b[0;31m    cd cmse202-f25-turnin\u001b[0m\n\u001b[0m       ^\u001b[0m\n\u001b[0;31mSyntaxError\u001b[0m\u001b[0;31m:\u001b[0m invalid syntax\n"
     ]
    }
   ],
   "source": [
    "### Put your code here:\n",
    "\n",
    "cd cmse202-f25-turnin\n",
    "mkdir midterm\n"
   ]
  },
  {
   "cell_type": "markdown",
   "id": "903ce347",
   "metadata": {},
   "source": [
    "&#9989; **Question 1.2 Put the code the instructor will need to clone your repository here (2 points)**:\n"
   ]
  },
  {
   "cell_type": "code",
   "execution_count": 19,
   "id": "adf93908",
   "metadata": {},
   "outputs": [],
   "source": [
    "### Put your code here:\n",
    "\n"
   ]
  },
  {
   "cell_type": "markdown",
   "id": "8239c731",
   "metadata": {},
   "source": [
    "&#9989; **Question 1.3 What code would you use to check the commit history of your Github repository. Write out the code below. (2 points)**:\n"
   ]
  },
  {
   "cell_type": "code",
   "execution_count": 20,
   "id": "2c84393a",
   "metadata": {},
   "outputs": [],
   "source": [
    "### Put your code here:\n",
    "\n"
   ]
  },
  {
   "cell_type": "markdown",
   "id": "39b5c084",
   "metadata": {},
   "source": [
    "&#9989; **Question 1.4 (4 points)**: After completing each of Part 2, Part 3, Part 4, and Part 5 below, save your notebook, commit the changes to your Git repository using a descriptive commit message, and push the changes to GitHub. Note that there are large &#128721; **STOP** signs reminding you to do this after each part. **Note:** If Github issues are encountered, just write the code you would use to commit and push changes under each of the stop signs. "
   ]
  },
  {
   "cell_type": "markdown",
   "id": "2a33af2b",
   "metadata": {},
   "source": [
    "## Part 2: Downloading and analyzing unfamiliar data (12 points)\n",
    "\n"
   ]
  },
  {
   "cell_type": "markdown",
   "id": "60a3afbd",
   "metadata": {},
   "source": [
    "In this section you will be tasked with downloading and exploring a specific data set. "
   ]
  },
  {
   "cell_type": "markdown",
   "id": "fdbaac8f",
   "metadata": {},
   "source": [
    "&#9989; **Question 2.1  Use the `curl` function we learned in class to downlaod the (https://raw.githubusercontent.com/hoolagans/CMSE202_FS24/refs/heads/main/CollegePlacement.csv) dataset to your working directory. Include the code you used to download the dataset below.  (2 points)**:\n"
   ]
  },
  {
   "cell_type": "code",
   "execution_count": 22,
   "id": "acd32e74",
   "metadata": {},
   "outputs": [],
   "source": [
    "### Put your code here:\n",
    "\n"
   ]
  },
  {
   "cell_type": "markdown",
   "id": "5c1ff7ba",
   "metadata": {},
   "source": [
    "&#9989; **Question 2.2 Read in the dataset as a Pandas data frame and then display the first 4 rows. (2 points)**: \n",
    "\n"
   ]
  },
  {
   "cell_type": "code",
   "execution_count": 24,
   "id": "0eabef99",
   "metadata": {},
   "outputs": [],
   "source": [
    "### Put your code here:\n",
    "\n"
   ]
  },
  {
   "cell_type": "markdown",
   "id": "d86e79ad",
   "metadata": {},
   "source": [
    "&#9989; **Question 2.3 Compute the mean value of `CGPA` in the data frame (2 points)**: \n",
    "\n"
   ]
  },
  {
   "cell_type": "code",
   "execution_count": 26,
   "id": "7fa9bffb",
   "metadata": {},
   "outputs": [],
   "source": [
    "### Put your code here:\n",
    "\n"
   ]
  },
  {
   "cell_type": "markdown",
   "id": "2e90d1bd",
   "metadata": {},
   "source": [
    "&#9989; **Question 2.4 Make a new data frame from your current data frame that contains only the `IQ` and `CGPA` columns. (2 points)**: \n",
    "\n"
   ]
  },
  {
   "cell_type": "code",
   "execution_count": 28,
   "id": "b777a6af",
   "metadata": {},
   "outputs": [],
   "source": [
    "### Put your code here\n",
    "\n"
   ]
  },
  {
   "cell_type": "markdown",
   "id": "42fe8ccb",
   "metadata": {},
   "source": [
    "&#9989; **Question 2.5 Now using the new data frame, make a scatter plot of `IQ` vs `CGPA`. (2 points)**: \n"
   ]
  },
  {
   "cell_type": "code",
   "execution_count": 30,
   "id": "97b35785",
   "metadata": {},
   "outputs": [],
   "source": [
    "### Put your code here\n",
    "\n"
   ]
  },
  {
   "cell_type": "markdown",
   "id": "9732c055",
   "metadata": {},
   "source": [
    "&#9989; **Question 2.6 What do you observe in the plot you generated above? Are there any patterns or trends? (2 points)**: \n"
   ]
  },
  {
   "cell_type": "markdown",
   "id": "d2a1022e",
   "metadata": {},
   "source": [
    "_Record your observations here_"
   ]
  },
  {
   "cell_type": "markdown",
   "id": "c7fb929b",
   "metadata": {
    "jp-MarkdownHeadingCollapsed": true,
    "tags": []
   },
   "source": [
    "---\n",
    "### &#128721; STOP (1 point)\n",
    "**Pause to commit your changes to your Git repository!**\n",
    "\n",
    "Take a moment to save your notebook, commit  and push the changes to your Git repository.\n",
    "\n",
    "---"
   ]
  },
  {
   "cell_type": "markdown",
   "id": "73b28e5a",
   "metadata": {
    "tags": []
   },
   "source": [
    "## Part 3: Working with a new Python package (10 points)\n",
    "\n",
    "In this section, we will be working with a new Python package called SymPy. This section will focus on your ability to explore and utilize documentation for a Python package you might not be familiar with. You can find the documentation here: https://docs.sympy.org/latest/index.html "
   ]
  },
  {
   "cell_type": "markdown",
   "id": "fac01f60",
   "metadata": {},
   "source": [
    "&#9989; **Question 3.1 Use pip install to install the SymPy package for Jupyter. Include the code you used to install it here. Remember to include the --user flag if using JupyterHub. If you already have SymPy installed, indicate the code you would use to install it. (2 points):** "
   ]
  },
  {
   "cell_type": "code",
   "execution_count": 34,
   "id": "cc86c046",
   "metadata": {},
   "outputs": [],
   "source": [
    "# Put your code here\n",
    "\n"
   ]
  },
  {
   "cell_type": "markdown",
   "id": "6890c0b6",
   "metadata": {},
   "source": [
    "&#9989; **Question 3.2 Following the documentation, import the SymPy library and create 'symbols' for 'x', 'y', and 'z' and store them into three unique variables. (2 points):** "
   ]
  },
  {
   "cell_type": "code",
   "execution_count": 36,
   "id": "8901b66f",
   "metadata": {},
   "outputs": [],
   "source": [
    "# Put your code here\n",
    "\n"
   ]
  },
  {
   "cell_type": "markdown",
   "id": "caa1c580",
   "metadata": {},
   "source": [
    "&#9989; **Question 3.3 Now using the symbols you created in Question 3.2 generate and display the equation $(x+y+z)/x$ (2 points):** \n"
   ]
  },
  {
   "cell_type": "code",
   "execution_count": 38,
   "id": "54e8f1aa",
   "metadata": {},
   "outputs": [],
   "source": [
    "# Put your code here\n",
    "\n"
   ]
  },
  {
   "cell_type": "markdown",
   "id": "d4c7f3d3",
   "metadata": {},
   "source": [
    "&#9989; **Question 3.4 Now create a string containing the following equation ($2*x+3*y+6*x*y$) and then use the 'sympify' function to convert it into a symbolic formula. Finally, use SymPy to compute the derivative of the function with respect to the symbol `x`. (4 points):** "
   ]
  },
  {
   "cell_type": "code",
   "execution_count": 40,
   "id": "b6dc5057",
   "metadata": {},
   "outputs": [],
   "source": [
    "# Put your code here\n",
    "\n"
   ]
  },
  {
   "cell_type": "markdown",
   "id": "d381baf7",
   "metadata": {
    "jp-MarkdownHeadingCollapsed": true,
    "tags": []
   },
   "source": [
    "---\n",
    "### &#128721; STOP (1 point)\n",
    "**Pause to commit your changes to your Git repository!**\n",
    "\n",
    "Take a moment to save your notebook, commit  and push the changes to your Git repository.\n",
    "\n",
    "---"
   ]
  },
  {
   "cell_type": "markdown",
   "id": "07d450c5",
   "metadata": {},
   "source": [
    "## Part 4: Writing a simple Python class (10 points)\n",
    "<img src=\"https://github.com/hoolagans/CMSE202_FS24/blob/main/tennis_player_humanized.gif?raw=true\" width=\"400px\">\n",
    "\n",
    "\n",
    "In this section, we will be developing a Python class for tracking workouts and calories burned. You are given a partially commpleted Python class that you will be asked to complete. "
   ]
  },
  {
   "cell_type": "markdown",
   "id": "8c264b75",
   "metadata": {},
   "source": [
    "&#9989; **Question 4.1 In this section we will use the starter code below to complete the workoutTracking class.  (5 points):** \n",
    "\n",
    "> 1. In the init function we will be tracking three things: `workoutHours`, `caloriesBurned`, and a log of `workouts`. Initially set `workoutHours` to 0, `caloriesBurned` to 0, and `workouts` to an empty list. \n",
    "\n",
    "> 2. Complete the `logRunning` function. The function should take as input the number of hours of running and a number from 1-10 to track the intensity (2 inputs: `hours`, `intensity`). The function should: \n",
    "- update the total number of hours in `workoutHours`\n",
    "- update `caloriesBurned` using the following formula $hours * intensity * 120$\n",
    "- update the workout log to append \"Running\" to the list\n",
    "\n",
    "> 3. Complete the `logTennis` function. The function should take as input the number of hours of tennis and a number from 1-10 to track the intensity (2 inputs: `hours`, `intensity`). The function should: \n",
    "- update the total number of hours in `workoutHours`\n",
    "- update `caloriesBurned` using the following formula $hours * intensity * 110$\n",
    "- update the workout log to append \"Tennis\" to the list\n",
    "\n",
    "> 4. Finish the `getStats` function by completing the two lines indicated by the comments so that the total number of hours and the total calories burned are printed. \n"
   ]
  },
  {
   "cell_type": "code",
   "execution_count": null,
   "id": "0c7c0e8c",
   "metadata": {},
   "outputs": [],
   "source": [
    "### Put your code here\n",
    "class workoutTracking:\n",
    "    def __init__(self):\n",
    "\n",
    "\n",
    "    def logLifting(self, hours, intensity):\n",
    "        self.workoutHours += hours\n",
    "        self.caloriesBurned += hours * intensity * 100 \n",
    "        self.workouts.append((\"Lifting\", hours, intensity))\n",
    "\n",
    "    def logRunning(): # Finish this function\n",
    "        pass\n",
    "\n",
    "    def logTennis():  # Finish this function\n",
    "        pass\n",
    "    \n",
    "    def getStats(self):\n",
    "        print(f\"Total Workout Hours: {}\") ### Complete this line\n",
    "        print(f\"Total Calories Burned: {}\") ### Complete this line\n",
    "        print(\"Workout Log:\")\n",
    "        for workout in self.workouts:\n",
    "            print(f\" - {workout[0]}: {workout[1]} hours at intensity {workout[2]}\")\n",
    "\n"
   ]
  },
  {
   "cell_type": "markdown",
   "id": "cf47f90d",
   "metadata": {},
   "source": [
    "&#9989; **Question 4.2: To demonstrate the code works.(5 points):**\n",
    "\n",
    "> 1. Create a workoutTracking object\n",
    "> 2. Log an hour of lifting at intensity 1.\n",
    "> 3. Log a half hour of running at intensity 2.\n",
    "> 4. Log 1.5 hours of tennis at intensity 3.\n",
    "> 5. Use the `getStats` function to report the tracked information. "
   ]
  },
  {
   "cell_type": "code",
   "execution_count": 44,
   "id": "3506a66d",
   "metadata": {},
   "outputs": [],
   "source": [
    "### Put your code here\n",
    "\n"
   ]
  },
  {
   "cell_type": "markdown",
   "id": "c159cf9a",
   "metadata": {
    "tags": []
   },
   "source": [
    "---\n",
    "### &#128721; STOP (1 point)\n",
    "**Pause to commit your changes to your Git repository!**\n",
    "\n",
    "Take a moment to save your notebook, commit  and push the changes to your Git repository.\n",
    "\n",
    "---"
   ]
  },
  {
   "cell_type": "markdown",
   "id": "755cce02-7247-4e83-8c8f-9d3355f1512a",
   "metadata": {},
   "source": [
    "## Part 5: Writing a simple Python code using different programming paradigms (11 points)\n",
    "\n",
    "<img src=\"https://github.com/hoolagans/CMSE202_FS24/blob/main/Designer-2.png?raw=true\" width=\"200px\">\n",
    "\n",
    "\n",
    "In this section, you will show your ability to use the three different programming paradigms we learned in class (linear, functional, and object-oriented). **Note: There are many possible correct approaches. We are not looking for a specific answer, just that you correctly used the assigned programming paradigm to solve the problem.**\n",
    "\n",
    "We will simulate the savings and spending of an individual. At each step, you will update the total savings of the individual based on the specific transaction. Total savings should be initialized at \\$0. \n",
    "\n",
    "> 1. It's payday! Collect \\$1000. \n",
    "> 2. It's time to pay bills :\\(. Pay \\$200 for the utilities. \n",
    "> 3. It's your Birthday! Collect \\$350 in birthday money. \n",
    "> 4. It's tax day :\\(. Pay \\$150 to the government. \n",
    "> 5. You bet it all on red, won, and doubled your money. \n",
    "> 6. Print your final savings. "
   ]
  },
  {
   "cell_type": "markdown",
   "id": "565a8282-74af-4ffd-b6cf-0c483cf9588f",
   "metadata": {},
   "source": [
    "&#9989; **Question 5.1 Write code for the above task using linear programming (3 points):** "
   ]
  },
  {
   "cell_type": "code",
   "execution_count": null,
   "id": "4c321a9f-e981-4657-ad7a-c83eaa777bdb",
   "metadata": {},
   "outputs": [],
   "source": [
    "### Put your code here"
   ]
  },
  {
   "cell_type": "markdown",
   "id": "0e6d60bd-78fc-4aad-a488-4dbe6cbf762f",
   "metadata": {},
   "source": [
    "&#9989; **Question 5.2 Write code for the above task using functional programming (3 points):** "
   ]
  },
  {
   "cell_type": "code",
   "execution_count": null,
   "id": "647cf0e9-9009-4cda-909c-0aa8107dff4e",
   "metadata": {},
   "outputs": [],
   "source": [
    "### Put your code here"
   ]
  },
  {
   "cell_type": "markdown",
   "id": "7c98bcff-f743-46c9-937f-e493e92666f5",
   "metadata": {},
   "source": [
    "&#9989; **Question 5.3 Write code for the above task using object-oriented programming (3 points):** "
   ]
  },
  {
   "cell_type": "code",
   "execution_count": null,
   "id": "06556500-bcd9-4f3e-8b26-92fd4db2b945",
   "metadata": {},
   "outputs": [],
   "source": [
    "### Put your code here"
   ]
  },
  {
   "cell_type": "markdown",
   "id": "23fa07a7-a7ae-42bd-8c2b-0378bb299852",
   "metadata": {},
   "source": [
    "&#9989; **Question 5.4 Which method do you think was best suited for this problem and why? (2 points):** "
   ]
  },
  {
   "cell_type": "markdown",
   "id": "5e8e38cf-1f3c-4711-b90a-227424e39219",
   "metadata": {},
   "source": [
    "### Put your answer here"
   ]
  },
  {
   "cell_type": "markdown",
   "id": "14435d84-82d4-4ffc-82b9-3188de6c7103",
   "metadata": {},
   "source": [
    "---\n",
    "### &#128721; STOP (1 point)\n",
    "**Pause to commit your changes to your Git repository!**\n",
    "\n",
    "Take a moment to save your notebook, commit  and push the changes to your Git repository.\n",
    "\n",
    "---"
   ]
  },
  {
   "cell_type": "markdown",
   "id": "868efbc9",
   "metadata": {
    "jp-MarkdownHeadingCollapsed": true,
    "tags": []
   },
   "source": [
    "## You're done! Congrats on finishing your CMSE 202 Midterm!\n",
    "\n",
    "Make sure all of your changes to your repository are committed and pushed to GitHub. Also upload a copy of this notebook to the dropbox on D2L in case something went wrong with your repository or if you couldn't get the repository to work."
   ]
  }
 ],
 "metadata": {
  "kernelspec": {
   "display_name": "Python 3 (ipykernel)",
   "language": "python",
   "name": "python3"
  },
  "language_info": {
   "codemirror_mode": {
    "name": "ipython",
    "version": 3
   },
   "file_extension": ".py",
   "mimetype": "text/x-python",
   "name": "python",
   "nbconvert_exporter": "python",
   "pygments_lexer": "ipython3",
   "version": "3.12.4"
  }
 },
 "nbformat": 4,
 "nbformat_minor": 5
}
